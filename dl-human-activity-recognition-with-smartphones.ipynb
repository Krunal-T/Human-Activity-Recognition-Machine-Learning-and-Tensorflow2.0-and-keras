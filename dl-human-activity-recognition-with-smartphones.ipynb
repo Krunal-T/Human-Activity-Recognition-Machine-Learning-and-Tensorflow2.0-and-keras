{
 "cells": [
  {
   "cell_type": "code",
   "execution_count": 20,
   "metadata": {
    "execution": {
     "iopub.execute_input": "2021-09-06T14:34:05.899010Z",
     "iopub.status.busy": "2021-09-06T14:34:05.898584Z",
     "iopub.status.idle": "2021-09-06T14:34:05.921314Z",
     "shell.execute_reply": "2021-09-06T14:34:05.920094Z",
     "shell.execute_reply.started": "2021-09-06T14:34:05.898973Z"
    }
   },
   "outputs": [
    {
     "name": "stdout",
     "output_type": "stream",
     "text": [
      "/kaggle/input/huacre/UCI HAR Dataset/activity_labels.txt\n",
      "/kaggle/input/huacre/UCI HAR Dataset/README.txt\n",
      "/kaggle/input/huacre/UCI HAR Dataset/features_info.txt\n",
      "/kaggle/input/huacre/UCI HAR Dataset/features.txt\n",
      "/kaggle/input/huacre/UCI HAR Dataset/test/subject_test.txt\n",
      "/kaggle/input/huacre/UCI HAR Dataset/test/y_test.txt\n",
      "/kaggle/input/huacre/UCI HAR Dataset/test/X_test.txt\n",
      "/kaggle/input/huacre/UCI HAR Dataset/test/Inertial Signals/body_acc_y_test.txt\n",
      "/kaggle/input/huacre/UCI HAR Dataset/test/Inertial Signals/total_acc_y_test.txt\n",
      "/kaggle/input/huacre/UCI HAR Dataset/test/Inertial Signals/total_acc_z_test.txt\n",
      "/kaggle/input/huacre/UCI HAR Dataset/test/Inertial Signals/body_acc_z_test.txt\n",
      "/kaggle/input/huacre/UCI HAR Dataset/test/Inertial Signals/body_gyro_y_test.txt\n",
      "/kaggle/input/huacre/UCI HAR Dataset/test/Inertial Signals/body_gyro_x_test.txt\n",
      "/kaggle/input/huacre/UCI HAR Dataset/test/Inertial Signals/body_gyro_z_test.txt\n",
      "/kaggle/input/huacre/UCI HAR Dataset/test/Inertial Signals/total_acc_x_test.txt\n",
      "/kaggle/input/huacre/UCI HAR Dataset/test/Inertial Signals/body_acc_x_test.txt\n",
      "/kaggle/input/huacre/UCI HAR Dataset/train/X_train.txt\n",
      "/kaggle/input/huacre/UCI HAR Dataset/train/subject_train.txt\n",
      "/kaggle/input/huacre/UCI HAR Dataset/train/y_train.txt\n",
      "/kaggle/input/huacre/UCI HAR Dataset/train/Inertial Signals/total_acc_z_train.txt\n",
      "/kaggle/input/huacre/UCI HAR Dataset/train/Inertial Signals/body_acc_x_train.txt\n",
      "/kaggle/input/huacre/UCI HAR Dataset/train/Inertial Signals/body_gyro_x_train.txt\n",
      "/kaggle/input/huacre/UCI HAR Dataset/train/Inertial Signals/body_gyro_z_train.txt\n",
      "/kaggle/input/huacre/UCI HAR Dataset/train/Inertial Signals/body_acc_z_train.txt\n",
      "/kaggle/input/huacre/UCI HAR Dataset/train/Inertial Signals/total_acc_x_train.txt\n",
      "/kaggle/input/huacre/UCI HAR Dataset/train/Inertial Signals/total_acc_y_train.txt\n",
      "/kaggle/input/huacre/UCI HAR Dataset/train/Inertial Signals/body_acc_y_train.txt\n",
      "/kaggle/input/huacre/UCI HAR Dataset/train/Inertial Signals/body_gyro_y_train.txt\n"
     ]
    }
   ],
   "source": [
    "import os\n",
    "for dirname, _, filenames in os.walk('/kaggle/input'):\n",
    "    for filename in filenames:\n",
    "        print(os.path.join(dirname, filename))"
   ]
  },
  {
   "cell_type": "code",
   "execution_count": 21,
   "metadata": {
    "execution": {
     "iopub.execute_input": "2021-09-06T14:34:05.923318Z",
     "iopub.status.busy": "2021-09-06T14:34:05.922986Z",
     "iopub.status.idle": "2021-09-06T14:34:05.930416Z",
     "shell.execute_reply": "2021-09-06T14:34:05.929069Z",
     "shell.execute_reply.started": "2021-09-06T14:34:05.923286Z"
    }
   },
   "outputs": [],
   "source": [
    "import IPython.display as ipd\n",
    "import warnings\n",
    "#warnings.filterwarnings(\"ignore\")\n",
    "import numpy as np\n",
    "import pandas as pd\n",
    "import seaborn as sns\n",
    "import matplotlib.pyplot as plt\n",
    "import time\n",
    "\n",
    "import tensorflow as tf\n",
    "from tensorflow.keras.models import Sequential\n",
    "from tensorflow.keras.layers import Dense , LSTM , Dropout , Flatten\n",
    "\n",
    "from sklearn.metrics import accuracy_score , confusion_matrix , classification_report"
   ]
  },
  {
   "cell_type": "code",
   "execution_count": 22,
   "metadata": {
    "execution": {
     "iopub.execute_input": "2021-09-06T14:34:05.933360Z",
     "iopub.status.busy": "2021-09-06T14:34:05.932968Z",
     "iopub.status.idle": "2021-09-06T14:34:05.945214Z",
     "shell.execute_reply": "2021-09-06T14:34:05.943725Z",
     "shell.execute_reply.started": "2021-09-06T14:34:05.933324Z"
    }
   },
   "outputs": [],
   "source": [
    "def boom1():\n",
    "    beep = np.sin(2*np.pi*400*np.arange(10000*2)/10000)\n",
    "    return ipd.Audio(beep, rate=10000, autoplay=True)\n",
    "\n",
    "def boom2():\n",
    "    audio_path=\"https://www.mfiles.co.uk/mp3-downloads/cherry-ripe.mp3\"\n",
    "    return ipd.Audio(audio_path, autoplay=True)"
   ]
  },
  {
   "cell_type": "code",
   "execution_count": 23,
   "metadata": {
    "execution": {
     "iopub.execute_input": "2021-09-06T14:34:05.947462Z",
     "iopub.status.busy": "2021-09-06T14:34:05.947140Z",
     "iopub.status.idle": "2021-09-06T14:34:05.960889Z",
     "shell.execute_reply": "2021-09-06T14:34:05.959446Z",
     "shell.execute_reply.started": "2021-09-06T14:34:05.947430Z"
    }
   },
   "outputs": [],
   "source": [
    "def s():\n",
    "    print(\"=\"*50)\n",
    "\n",
    "def ts():\n",
    "    t_start = time.time()\n",
    "    print(\"Time started...\")\n",
    "    s()\n",
    "    s()\n",
    "    return t_start\n",
    "\n",
    "t_total = 0\n",
    "def te(t1):\n",
    "    t_end = time.time()\n",
    "    t_time = t_end - t1\n",
    "    s()\n",
    "    s()\n",
    "    global t_total\n",
    "    t_total = t_total + t_time\n",
    "    print(\"Time taken:\",round(t_time, 4),\"seconds.\")\n",
    "    s()\n",
    "    print(\"Total Time:\",round(t_total, 2),\"seconds.\")"
   ]
  },
  {
   "cell_type": "code",
   "execution_count": 24,
   "metadata": {
    "execution": {
     "iopub.execute_input": "2021-09-06T14:34:05.963243Z",
     "iopub.status.busy": "2021-09-06T14:34:05.962784Z",
     "iopub.status.idle": "2021-09-06T14:34:05.990061Z",
     "shell.execute_reply": "2021-09-06T14:34:05.988921Z",
     "shell.execute_reply.started": "2021-09-06T14:34:05.963206Z"
    }
   },
   "outputs": [
    {
     "name": "stdout",
     "output_type": "stream",
     "text": [
      "/kaggle/input/huacre/UCI HAR Dataset/activity_labels.txt\n",
      "/kaggle/input/huacre/UCI HAR Dataset/README.txt\n",
      "/kaggle/input/huacre/UCI HAR Dataset/features_info.txt\n",
      "/kaggle/input/huacre/UCI HAR Dataset/features.txt\n",
      "/kaggle/input/huacre/UCI HAR Dataset/test/subject_test.txt\n",
      "/kaggle/input/huacre/UCI HAR Dataset/test/y_test.txt\n",
      "/kaggle/input/huacre/UCI HAR Dataset/test/X_test.txt\n",
      "/kaggle/input/huacre/UCI HAR Dataset/test/Inertial Signals/body_acc_y_test.txt\n",
      "/kaggle/input/huacre/UCI HAR Dataset/test/Inertial Signals/total_acc_y_test.txt\n",
      "/kaggle/input/huacre/UCI HAR Dataset/test/Inertial Signals/total_acc_z_test.txt\n",
      "/kaggle/input/huacre/UCI HAR Dataset/test/Inertial Signals/body_acc_z_test.txt\n",
      "/kaggle/input/huacre/UCI HAR Dataset/test/Inertial Signals/body_gyro_y_test.txt\n",
      "/kaggle/input/huacre/UCI HAR Dataset/test/Inertial Signals/body_gyro_x_test.txt\n",
      "/kaggle/input/huacre/UCI HAR Dataset/test/Inertial Signals/body_gyro_z_test.txt\n",
      "/kaggle/input/huacre/UCI HAR Dataset/test/Inertial Signals/total_acc_x_test.txt\n",
      "/kaggle/input/huacre/UCI HAR Dataset/test/Inertial Signals/body_acc_x_test.txt\n",
      "/kaggle/input/huacre/UCI HAR Dataset/train/X_train.txt\n",
      "/kaggle/input/huacre/UCI HAR Dataset/train/subject_train.txt\n",
      "/kaggle/input/huacre/UCI HAR Dataset/train/y_train.txt\n",
      "/kaggle/input/huacre/UCI HAR Dataset/train/Inertial Signals/total_acc_z_train.txt\n",
      "/kaggle/input/huacre/UCI HAR Dataset/train/Inertial Signals/body_acc_x_train.txt\n",
      "/kaggle/input/huacre/UCI HAR Dataset/train/Inertial Signals/body_gyro_x_train.txt\n",
      "/kaggle/input/huacre/UCI HAR Dataset/train/Inertial Signals/body_gyro_z_train.txt\n",
      "/kaggle/input/huacre/UCI HAR Dataset/train/Inertial Signals/body_acc_z_train.txt\n",
      "/kaggle/input/huacre/UCI HAR Dataset/train/Inertial Signals/total_acc_x_train.txt\n",
      "/kaggle/input/huacre/UCI HAR Dataset/train/Inertial Signals/total_acc_y_train.txt\n",
      "/kaggle/input/huacre/UCI HAR Dataset/train/Inertial Signals/body_acc_y_train.txt\n",
      "/kaggle/input/huacre/UCI HAR Dataset/train/Inertial Signals/body_gyro_y_train.txt\n"
     ]
    }
   ],
   "source": [
    "import os\n",
    "for dirname, _, filenames in os.walk('/kaggle/input'):\n",
    "    for filename in filenames:\n",
    "        print(os.path.join(dirname, filename))"
   ]
  },
  {
   "cell_type": "code",
   "execution_count": 25,
   "metadata": {
    "execution": {
     "iopub.execute_input": "2021-09-06T14:34:05.992104Z",
     "iopub.status.busy": "2021-09-06T14:34:05.991634Z",
     "iopub.status.idle": "2021-09-06T14:34:05.999719Z",
     "shell.execute_reply": "2021-09-06T14:34:05.998502Z",
     "shell.execute_reply.started": "2021-09-06T14:34:05.992056Z"
    }
   },
   "outputs": [],
   "source": [
    "ACTIVITIES = {\n",
    "    0: 'WALKING',\n",
    "    1: 'WALKING_UPSTAIRS',\n",
    "    2: 'WALKING_DOWNSTAIRS',\n",
    "    3: 'SITTING',\n",
    "    4: 'STANDING',\n",
    "    5: 'LAYING',\n",
    "}\n",
    "\n",
    "SIGNALS = [\n",
    "    \"body_acc_x\",\n",
    "    \"body_acc_y\",\n",
    "    \"body_acc_z\",\n",
    "    \"body_gyro_x\",\n",
    "    \"body_gyro_y\",\n",
    "    \"body_gyro_z\",\n",
    "    \"total_acc_x\",\n",
    "    \"total_acc_y\",\n",
    "    \"total_acc_z\"\n",
    "]\n",
    "\n",
    "#DATADIR = '../input/huacre/UCI HAR Dataset'"
   ]
  },
  {
   "cell_type": "code",
   "execution_count": 26,
   "metadata": {
    "execution": {
     "iopub.execute_input": "2021-09-06T14:34:06.002649Z",
     "iopub.status.busy": "2021-09-06T14:34:06.002316Z",
     "iopub.status.idle": "2021-09-06T14:34:06.019540Z",
     "shell.execute_reply": "2021-09-06T14:34:06.017898Z",
     "shell.execute_reply.started": "2021-09-06T14:34:06.002620Z"
    }
   },
   "outputs": [],
   "source": [
    "def _read_csv(filename):\n",
    "    return pd.read_csv(filename , header = None , delim_whitespace = True)\n",
    "\n",
    "def load_signal(subset):\n",
    "    signal_data = []\n",
    "   \n",
    "    for signal in SIGNALS:\n",
    "        filename = f'../input/huacre/UCI HAR Dataset/{subset}/Inertial Signals/{signal}_{subset}.txt'\n",
    "        signal_data.append(\n",
    "            _read_csv(filename).to_numpy()) \n",
    "    return np.transpose(signal_data, (1, 2, 0))\n",
    "\n",
    "\n",
    "def load_y(subset):\n",
    "    filename = f'../input/huacre/UCI HAR Dataset/{subset}/y_{subset}.txt'\n",
    "    y = _read_csv(filename)[0]\n",
    "\n",
    "    return pd.get_dummies(y).to_numpy()\n",
    "\n",
    "def load_data():\n",
    "    \n",
    "    X_train, X_test = load_signal('train'), load_signal('test')\n",
    "    y_train, y_test = load_y('train'), load_y('test')\n",
    "\n",
    "    return X_train, X_test, y_train, y_test"
   ]
  },
  {
   "cell_type": "code",
   "execution_count": 27,
   "metadata": {
    "execution": {
     "iopub.execute_input": "2021-09-06T14:34:06.022244Z",
     "iopub.status.busy": "2021-09-06T14:34:06.021762Z",
     "iopub.status.idle": "2021-09-06T14:34:10.340768Z",
     "shell.execute_reply": "2021-09-06T14:34:10.339677Z",
     "shell.execute_reply.started": "2021-09-06T14:34:06.022129Z"
    }
   },
   "outputs": [],
   "source": [
    "Xtrain , Xtest , Ytrain , Ytest = load_data()"
   ]
  },
  {
   "cell_type": "code",
   "execution_count": 28,
   "metadata": {
    "execution": {
     "iopub.execute_input": "2021-09-06T14:34:10.342618Z",
     "iopub.status.busy": "2021-09-06T14:34:10.342316Z",
     "iopub.status.idle": "2021-09-06T14:34:10.349421Z",
     "shell.execute_reply": "2021-09-06T14:34:10.348162Z",
     "shell.execute_reply.started": "2021-09-06T14:34:10.342589Z"
    }
   },
   "outputs": [
    {
     "name": "stdout",
     "output_type": "stream",
     "text": [
      "(7352, 128, 9)\n",
      "(7352, 6)\n",
      "(2947, 128, 9)\n",
      "(2947, 6)\n"
     ]
    }
   ],
   "source": [
    "print(Xtrain.shape)\n",
    "print(Ytrain.shape)\n",
    "print(Xtest.shape)\n",
    "print(Ytest.shape)"
   ]
  },
  {
   "cell_type": "code",
   "execution_count": 29,
   "metadata": {
    "execution": {
     "iopub.execute_input": "2021-09-06T14:34:10.351690Z",
     "iopub.status.busy": "2021-09-06T14:34:10.351318Z",
     "iopub.status.idle": "2021-09-06T14:34:10.363492Z",
     "shell.execute_reply": "2021-09-06T14:34:10.362104Z",
     "shell.execute_reply.started": "2021-09-06T14:34:10.351659Z"
    }
   },
   "outputs": [],
   "source": [
    "# x = np.ones((4, 3, 2))\n",
    "# x\n",
    "# np.transpose(x, (1, 2, 0)).shape\n",
    "\n",
    "# 4, 3, 2             9, 7352, 128\n",
    "# 3, 2, 4             7352, 128, 9\n"
   ]
  },
  {
   "cell_type": "code",
   "execution_count": 30,
   "metadata": {
    "execution": {
     "iopub.execute_input": "2021-09-06T14:34:10.365507Z",
     "iopub.status.busy": "2021-09-06T14:34:10.365157Z",
     "iopub.status.idle": "2021-09-06T14:34:10.664673Z",
     "shell.execute_reply": "2021-09-06T14:34:10.663417Z",
     "shell.execute_reply.started": "2021-09-06T14:34:10.365475Z"
    }
   },
   "outputs": [
    {
     "name": "stdout",
     "output_type": "stream",
     "text": [
      "Model: \"sequential_1\"\n",
      "_________________________________________________________________\n",
      "Layer (type)                 Output Shape              Param #   \n",
      "=================================================================\n",
      "lstm_1 (LSTM)                (None, 32)                5376      \n",
      "_________________________________________________________________\n",
      "dropout_1 (Dropout)          (None, 32)                0         \n",
      "_________________________________________________________________\n",
      "flatten_1 (Flatten)          (None, 32)                0         \n",
      "_________________________________________________________________\n",
      "dense_2 (Dense)              (None, 30)                990       \n",
      "_________________________________________________________________\n",
      "dense_3 (Dense)              (None, 6)                 186       \n",
      "=================================================================\n",
      "Total params: 6,552\n",
      "Trainable params: 6,552\n",
      "Non-trainable params: 0\n",
      "_________________________________________________________________\n"
     ]
    }
   ],
   "source": [
    "model = Sequential()\n",
    "model.add(LSTM(32,input_shape = (128,9)))\n",
    "model.add(Dropout(0.5))\n",
    "model.add(Flatten())\n",
    "model.add(Dense(30 , activation = \"relu\"))\n",
    "model.add(Dense(6, activation = \"softmax\" ))\n",
    "\n",
    "model.summary()"
   ]
  },
  {
   "cell_type": "code",
   "execution_count": 31,
   "metadata": {
    "execution": {
     "iopub.execute_input": "2021-09-06T14:34:10.667200Z",
     "iopub.status.busy": "2021-09-06T14:34:10.666859Z",
     "iopub.status.idle": "2021-09-06T14:34:10.682766Z",
     "shell.execute_reply": "2021-09-06T14:34:10.681448Z",
     "shell.execute_reply.started": "2021-09-06T14:34:10.667169Z"
    }
   },
   "outputs": [],
   "source": [
    "model.compile(optimizer = \"adam\" , loss= \"categorical_crossentropy\" , metrics = [\"accuracy\"])"
   ]
  },
  {
   "cell_type": "code",
   "execution_count": 35,
   "metadata": {
    "execution": {
     "iopub.execute_input": "2021-09-06T14:43:01.020567Z",
     "iopub.status.busy": "2021-09-06T14:43:01.020090Z",
     "iopub.status.idle": "2021-09-06T14:46:47.002693Z",
     "shell.execute_reply": "2021-09-06T14:46:47.001696Z",
     "shell.execute_reply.started": "2021-09-06T14:43:01.020532Z"
    }
   },
   "outputs": [
    {
     "name": "stdout",
     "output_type": "stream",
     "text": [
      "Epoch 1/10\n",
      "368/368 [==============================] - 22s 61ms/step - loss: 0.6505 - accuracy: 0.7160 - val_loss: 0.8571 - val_accuracy: 0.6634\n",
      "Epoch 2/10\n",
      "368/368 [==============================] - 23s 61ms/step - loss: 0.6131 - accuracy: 0.7251 - val_loss: 0.8356 - val_accuracy: 0.6753\n",
      "Epoch 3/10\n",
      "368/368 [==============================] - 22s 61ms/step - loss: 0.5863 - accuracy: 0.7379 - val_loss: 0.8274 - val_accuracy: 0.6902\n",
      "Epoch 4/10\n",
      "368/368 [==============================] - 22s 61ms/step - loss: 0.5693 - accuracy: 0.7409 - val_loss: 0.8182 - val_accuracy: 0.6987\n",
      "Epoch 5/10\n",
      "368/368 [==============================] - 23s 61ms/step - loss: 0.6211 - accuracy: 0.7341 - val_loss: 0.7896 - val_accuracy: 0.7095\n",
      "Epoch 6/10\n",
      "368/368 [==============================] - 23s 62ms/step - loss: 0.5416 - accuracy: 0.7705 - val_loss: 0.7462 - val_accuracy: 0.7329\n",
      "Epoch 7/10\n",
      "368/368 [==============================] - 23s 62ms/step - loss: 0.6020 - accuracy: 0.7484 - val_loss: 0.6833 - val_accuracy: 0.7428\n",
      "Epoch 8/10\n",
      "368/368 [==============================] - 23s 63ms/step - loss: 0.4878 - accuracy: 0.7945 - val_loss: 0.7241 - val_accuracy: 0.7767\n",
      "Epoch 9/10\n",
      "368/368 [==============================] - 22s 61ms/step - loss: 0.4765 - accuracy: 0.8097 - val_loss: 2.5987 - val_accuracy: 0.4706\n",
      "Epoch 10/10\n",
      "368/368 [==============================] - 23s 61ms/step - loss: 0.4769 - accuracy: 0.8175 - val_loss: 0.6231 - val_accuracy: 0.8012\n"
     ]
    },
    {
     "data": {
      "text/plain": [
       "<tensorflow.python.keras.callbacks.History at 0x7fc12eb4eb50>"
      ]
     },
     "execution_count": 35,
     "metadata": {},
     "output_type": "execute_result"
    }
   ],
   "source": [
    "model.fit(Xtrain , Ytrain , epochs = 10 , batch_size = 20 , validation_data = (Xtest , Ytest))"
   ]
  },
  {
   "cell_type": "code",
   "execution_count": 36,
   "metadata": {
    "execution": {
     "iopub.execute_input": "2021-09-06T14:46:50.404650Z",
     "iopub.status.busy": "2021-09-06T14:46:50.404032Z",
     "iopub.status.idle": "2021-09-06T14:46:51.863820Z",
     "shell.execute_reply": "2021-09-06T14:46:51.862554Z",
     "shell.execute_reply.started": "2021-09-06T14:46:50.404598Z"
    }
   },
   "outputs": [
    {
     "name": "stdout",
     "output_type": "stream",
     "text": [
      "93/93 [==============================] - 1s 15ms/step - loss: 0.6231 - accuracy: 0.8012\n"
     ]
    }
   ],
   "source": [
    "loss , accuracy = model.evaluate(Xtest, Ytest)"
   ]
  },
  {
   "cell_type": "code",
   "execution_count": 37,
   "metadata": {
    "execution": {
     "iopub.execute_input": "2021-09-06T14:46:55.680513Z",
     "iopub.status.busy": "2021-09-06T14:46:55.680074Z",
     "iopub.status.idle": "2021-09-06T14:46:55.687265Z",
     "shell.execute_reply": "2021-09-06T14:46:55.686244Z",
     "shell.execute_reply.started": "2021-09-06T14:46:55.680477Z"
    }
   },
   "outputs": [
    {
     "name": "stdout",
     "output_type": "stream",
     "text": [
      "Loss on test : 0.6230677366256714\n",
      "Accuracy on test : 80.12 %\n"
     ]
    }
   ],
   "source": [
    "print(\"Loss on test :\",loss)\n",
    "print(\"Accuracy on test :\",round(accuracy*100,2),\"%\")"
   ]
  },
  {
   "cell_type": "code",
   "execution_count": 32,
   "metadata": {
    "execution": {
     "iopub.execute_input": "2021-09-06T14:34:23.848250Z",
     "iopub.status.busy": "2021-09-06T14:34:23.847834Z",
     "iopub.status.idle": "2021-09-06T14:41:55.227363Z",
     "shell.execute_reply": "2021-09-06T14:41:55.226285Z",
     "shell.execute_reply.started": "2021-09-06T14:34:23.848217Z"
    }
   },
   "outputs": [
    {
     "name": "stdout",
     "output_type": "stream",
     "text": [
      "Epoch 1/20\n",
      "368/368 [==============================] - 25s 63ms/step - loss: 1.3788 - accuracy: 0.4375 - val_loss: 0.9767 - val_accuracy: 0.5870\n",
      "Epoch 2/20\n",
      "368/368 [==============================] - 22s 61ms/step - loss: 0.8364 - accuracy: 0.6127 - val_loss: 0.8338 - val_accuracy: 0.5996\n",
      "Epoch 3/20\n",
      "368/368 [==============================] - 22s 61ms/step - loss: 0.6830 - accuracy: 0.6683 - val_loss: 0.6657 - val_accuracy: 0.7051\n",
      "Epoch 4/20\n",
      "368/368 [==============================] - 23s 61ms/step - loss: 0.5717 - accuracy: 0.7444 - val_loss: 0.5471 - val_accuracy: 0.7703\n",
      "Epoch 5/20\n",
      "368/368 [==============================] - 22s 61ms/step - loss: 0.4792 - accuracy: 0.8037 - val_loss: 0.4380 - val_accuracy: 0.8449\n",
      "Epoch 6/20\n",
      "368/368 [==============================] - 22s 61ms/step - loss: 0.3797 - accuracy: 0.8576 - val_loss: 0.8253 - val_accuracy: 0.7201\n",
      "Epoch 7/20\n",
      "368/368 [==============================] - 23s 61ms/step - loss: 0.4167 - accuracy: 0.8360 - val_loss: 0.4128 - val_accuracy: 0.8622\n",
      "Epoch 8/20\n",
      "368/368 [==============================] - 22s 61ms/step - loss: 0.6685 - accuracy: 0.7610 - val_loss: 0.7985 - val_accuracy: 0.6875\n",
      "Epoch 9/20\n",
      "368/368 [==============================] - 22s 60ms/step - loss: 0.4485 - accuracy: 0.8076 - val_loss: 0.4900 - val_accuracy: 0.8473\n",
      "Epoch 10/20\n",
      "368/368 [==============================] - 23s 62ms/step - loss: 0.2924 - accuracy: 0.9043 - val_loss: 0.3686 - val_accuracy: 0.8680\n",
      "Epoch 11/20\n",
      "368/368 [==============================] - 22s 61ms/step - loss: 0.2386 - accuracy: 0.9196 - val_loss: 0.3234 - val_accuracy: 0.8955\n",
      "Epoch 12/20\n",
      "368/368 [==============================] - 22s 61ms/step - loss: 0.4308 - accuracy: 0.8732 - val_loss: 0.4586 - val_accuracy: 0.8707\n",
      "Epoch 13/20\n",
      "368/368 [==============================] - 22s 61ms/step - loss: 0.2057 - accuracy: 0.9356 - val_loss: 0.4193 - val_accuracy: 0.8812\n",
      "Epoch 14/20\n",
      "368/368 [==============================] - 23s 61ms/step - loss: 0.1832 - accuracy: 0.9365 - val_loss: 0.4285 - val_accuracy: 0.8816\n",
      "Epoch 15/20\n",
      "368/368 [==============================] - 22s 60ms/step - loss: 0.1839 - accuracy: 0.9355 - val_loss: 0.4159 - val_accuracy: 0.8711\n",
      "Epoch 16/20\n",
      "368/368 [==============================] - 23s 61ms/step - loss: 0.2339 - accuracy: 0.9203 - val_loss: 0.3804 - val_accuracy: 0.8772\n",
      "Epoch 17/20\n",
      "368/368 [==============================] - 22s 61ms/step - loss: 0.7938 - accuracy: 0.7740 - val_loss: 0.8663 - val_accuracy: 0.6427\n",
      "Epoch 18/20\n",
      "368/368 [==============================] - 22s 61ms/step - loss: 0.9535 - accuracy: 0.5889 - val_loss: 1.0518 - val_accuracy: 0.5877\n",
      "Epoch 19/20\n",
      "368/368 [==============================] - 22s 61ms/step - loss: 0.9262 - accuracy: 0.5920 - val_loss: 0.9606 - val_accuracy: 0.6159\n",
      "Epoch 20/20\n",
      "368/368 [==============================] - 23s 62ms/step - loss: 0.8282 - accuracy: 0.6311 - val_loss: 0.8733 - val_accuracy: 0.6637\n"
     ]
    },
    {
     "data": {
      "text/plain": [
       "<tensorflow.python.keras.callbacks.History at 0x7fc130099ed0>"
      ]
     },
     "execution_count": 32,
     "metadata": {},
     "output_type": "execute_result"
    }
   ],
   "source": [
    "# model.fit(Xtrain , Ytrain , epochs = 20 , batch_size = 20 , validation_data = (Xtest , Ytest))"
   ]
  },
  {
   "cell_type": "code",
   "execution_count": 33,
   "metadata": {
    "execution": {
     "iopub.execute_input": "2021-09-06T14:41:59.365949Z",
     "iopub.status.busy": "2021-09-06T14:41:59.365505Z",
     "iopub.status.idle": "2021-09-06T14:42:00.797018Z",
     "shell.execute_reply": "2021-09-06T14:42:00.796179Z",
     "shell.execute_reply.started": "2021-09-06T14:41:59.365908Z"
    }
   },
   "outputs": [
    {
     "name": "stdout",
     "output_type": "stream",
     "text": [
      "93/93 [==============================] - 1s 15ms/step - loss: 0.8733 - accuracy: 0.6637\n"
     ]
    }
   ],
   "source": [
    "#loss , accuracy = model.evaluate(Xtest, Ytest)"
   ]
  },
  {
   "cell_type": "code",
   "execution_count": 34,
   "metadata": {
    "execution": {
     "iopub.execute_input": "2021-09-06T14:42:05.885144Z",
     "iopub.status.busy": "2021-09-06T14:42:05.884748Z",
     "iopub.status.idle": "2021-09-06T14:42:05.891621Z",
     "shell.execute_reply": "2021-09-06T14:42:05.890360Z",
     "shell.execute_reply.started": "2021-09-06T14:42:05.885110Z"
    }
   },
   "outputs": [
    {
     "name": "stdout",
     "output_type": "stream",
     "text": [
      "Loss on test : 0.8732960820198059\n",
      "Accuracy on test : 66.37 %\n"
     ]
    }
   ],
   "source": [
    "#print(\"Loss on test :\",loss)\n",
    "#print(\"Accuracy on test :\",round(accuracy*100,2),\"%\")"
   ]
  },
  {
   "cell_type": "code",
   "execution_count": null,
   "metadata": {},
   "outputs": [],
   "source": []
  }
 ],
 "metadata": {
  "kernelspec": {
   "display_name": "Python 3",
   "language": "python",
   "name": "python3"
  },
  "language_info": {
   "codemirror_mode": {
    "name": "ipython",
    "version": 3
   },
   "file_extension": ".py",
   "mimetype": "text/x-python",
   "name": "python",
   "nbconvert_exporter": "python",
   "pygments_lexer": "ipython3",
   "version": "3.7.10"
  }
 },
 "nbformat": 4,
 "nbformat_minor": 4
}
